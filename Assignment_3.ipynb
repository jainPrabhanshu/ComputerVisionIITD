{
 "cells": [
  {
   "cell_type": "code",
   "execution_count": 1,
   "id": "a4a27fe2",
   "metadata": {},
   "outputs": [],
   "source": [
    "import pandas as pd\n",
    "import numpy as np\n",
    "import pandas as pd\n",
    "import math"
   ]
  },
  {
   "cell_type": "code",
   "execution_count": 2,
   "id": "cf667d44",
   "metadata": {},
   "outputs": [],
   "source": [
    "data = [\n",
    "    [30, 'high', 'no', 'fair', 'no'],\n",
    "    [30, 'high', 'no', 'excellent', 'no'],\n",
    "    [31, 'medium', 'no', 'fair', 'yes'],\n",
    "    [40, 'low', 'no', 'fair', 'yes'],\n",
    "    [40, 'low', 'yes', 'fair', 'yes'],\n",
    "    [40, 'low', 'yes', 'excellent', 'no'],\n",
    "    [31, 'medium', 'yes', 'excellent', 'yes'],\n",
    "    [30, 'high', 'no', 'fair', 'no'],\n",
    "    [30, 'medium', 'yes', 'fair', 'yes'],\n",
    "    [31, 'medium', 'yes', 'excellent', 'yes'],\n",
    "    [31, 'high', 'no', 'excellent', 'yes'],\n",
    "    [40, 'medium', 'no', 'fair', 'yes'],\n",
    "    [40, 'high', 'yes', 'fair', 'yes'],\n",
    "    [31, 'medium', 'no', 'excellent', 'no']\n",
    "]"
   ]
  },
  {
   "cell_type": "code",
   "execution_count": 3,
   "id": "6d6d0dff",
   "metadata": {},
   "outputs": [],
   "source": [
    "df = pd.DataFrame(data, columns=['age', 'income', 'student', 'credit_rating', 'buys_computer'])\n",
    "X = df.drop(columns=['buys_computer'])\n",
    "y = df['buys_computer']\n",
    "     "
   ]
  },
  {
   "cell_type": "code",
   "execution_count": 4,
   "id": "1d42e660",
   "metadata": {},
   "outputs": [],
   "source": [
    "class DecisionTreeNode:\n",
    "    def __init__(self, feature=None, value=None, left=None, right=None, target_class=None):\n",
    "        self.feature = feature \n",
    "        self.value = value\n",
    "        self.left = left  \n",
    "        self.right = right  \n",
    "        self.target_class = target_class\n",
    "        \n",
    "\n",
    "     "
   ]
  },
  {
   "cell_type": "code",
   "execution_count": 5,
   "id": "f30dd95f",
   "metadata": {},
   "outputs": [],
   "source": [
    "def calculate_entropy(y):\n",
    "    class_counts = y.value_counts()\n",
    "    entropy = 0\n",
    "    for count in class_counts:\n",
    "        probability = count / len(y)\n",
    "        entropy -= probability * math.log2(probability)\n",
    "    return entropy\n",
    "     "
   ]
  },
  {
   "cell_type": "code",
   "execution_count": 6,
   "id": "ccb60c33",
   "metadata": {},
   "outputs": [],
   "source": [
    "def calculate_information_gain(X, y, feature, split_value):\n",
    "    \n",
    "    total_entropy = calculate_entropy(y)\n",
    "    left_indices = X[feature] <= split_value\n",
    "    right_indices = X[feature] > split_value\n",
    "    left_entropy = calculate_entropy(y[left_indices])\n",
    "    right_entropy = calculate_entropy(y[right_indices])\n",
    "\n",
    "    left_weight = sum(left_indices) / len(y)\n",
    "    right_weight = sum(right_indices) / len(y)\n",
    "    information_gain = total_entropy - (left_weight * left_entropy + right_weight * right_entropy)\n",
    "\n",
    "    return information_gain"
   ]
  },
  {
   "cell_type": "code",
   "execution_count": 7,
   "id": "4e2fd88f",
   "metadata": {},
   "outputs": [],
   "source": [
    "def build_decision_tree(X, y):\n",
    "    if len(set(y)) == 1:  \n",
    "        return DecisionTreeNode(target_class=y.iloc[0])\n",
    "\n",
    "    if len(X.columns) == 0:  # If there are no features left to split on\n",
    "        return DecisionTreeNode(target_class=y.mode()[0])\n",
    "\n",
    "    best_information_gain = 0\n",
    "    best_feature = None\n",
    "    best_split_value = None\n",
    "\n",
    "    for feature in X.columns:\n",
    "        unique_values = X[feature].unique()\n",
    "        for value in unique_values:\n",
    "            information_gain = calculate_information_gain(X, y, feature, value)\n",
    "            if information_gain > best_information_gain:\n",
    "                best_information_gain = information_gain\n",
    "                best_feature = feature\n",
    "                best_split_value = value\n",
    "\n",
    "    left_indices = X[best_feature] <= best_split_value\n",
    "    right_indices = X[best_feature] > best_split_value\n",
    "    left_subtree = build_decision_tree(X[left_indices], y[left_indices])\n",
    "    right_subtree = build_decision_tree(X[right_indices], y[right_indices])\n",
    "\n",
    "    return DecisionTreeNode(feature=best_feature, value=best_split_value, left=left_subtree, right=right_subtree)"
   ]
  },
  {
   "cell_type": "code",
   "execution_count": 8,
   "id": "a7668d6f",
   "metadata": {},
   "outputs": [],
   "source": [
    "decision_tree = build_decision_tree(X, y)"
   ]
  },
  {
   "cell_type": "code",
   "execution_count": 9,
   "id": "fc98ae04",
   "metadata": {},
   "outputs": [],
   "source": [
    "def predict(tree, sample):\n",
    "    if tree.target_class is not None:\n",
    "        return tree.target_class\n",
    "    feature_index = X.columns.get_loc(tree.feature)\n",
    "    if sample[feature_index] <= tree.value:\n",
    "        return predict(tree.left, sample)\n",
    "    else:\n",
    "        return predict(tree.right, sample)"
   ]
  },
  {
   "cell_type": "code",
   "execution_count": 10,
   "id": "f9f7d6c7",
   "metadata": {},
   "outputs": [
    {
     "name": "stdout",
     "output_type": "stream",
     "text": [
      "Sample : [20, 'low', 'yes', 'excellent'], Predicted : yes\n",
      "Sample : [30, 'high', 'no', 'fair'], Predicted : no\n",
      "Sample : [40, 'medium', 'yes', 'fair'], Predicted : yes\n",
      "Sample : [50, 'low', 'no', 'fair'], Predicted : yes\n",
      "Sample : [25, 'high', 'yes', 'excellent'], Predicted : no\n",
      "Sample : [35, 'medium', 'no', 'fair'], Predicted : yes\n",
      "Sample : [45, 'low', 'yes', 'excellent'], Predicted : no\n",
      "Sample : [55, 'high', 'no', 'fair'], Predicted : yes\n",
      "Sample : [30, 'high', 'no', 'fair'], Predicted : no\n",
      "Sample : [30, 'high', 'no', 'excellent'], Predicted : no\n",
      "Sample : [31, 'medium', 'no', 'fair'], Predicted : yes\n",
      "Sample : [40, 'low', 'no', 'fair'], Predicted : yes\n",
      "Sample : [40, 'low', 'yes', 'fair'], Predicted : yes\n",
      "Sample : [40, 'low', 'yes', 'excellent'], Predicted : no\n",
      "Sample : [31, 'medium', 'yes', 'excellent'], Predicted : yes\n",
      "Sample : [30, 'high', 'no', 'fair'], Predicted : no\n",
      "Sample : [30, 'medium', 'yes', 'fair'], Predicted : yes\n",
      "Sample : [31, 'medium', 'yes', 'excellent'], Predicted : yes\n",
      "Sample : [31, 'high', 'no', 'excellent'], Predicted : yes\n",
      "Sample : [40, 'medium', 'no', 'fair'], Predicted : yes\n",
      "Sample : [40, 'high', 'yes', 'fair'], Predicted : yes\n",
      "Sample : [31, 'medium', 'no', 'excellent'], Predicted : no\n"
     ]
    }
   ],
   "source": [
    "data2 = [\n",
    "    [20, 'low', 'yes', 'excellent'],\n",
    "    [30, 'high', 'no', 'fair'],\n",
    "    [40, 'medium', 'yes', 'fair'],\n",
    "    [50, 'low', 'no', 'fair'],\n",
    "    [25, 'high', 'yes', 'excellent'],\n",
    "    [35, 'medium', 'no', 'fair'],\n",
    "    [45, 'low', 'yes', 'excellent'],\n",
    "    [55, 'high', 'no', 'fair'],\n",
    "     [30, 'high', 'no', 'fair'],\n",
    "    [30, 'high', 'no', 'excellent'],\n",
    "    [31, 'medium', 'no', 'fair'],\n",
    "    [40, 'low', 'no', 'fair'],\n",
    "    [40, 'low', 'yes', 'fair'],\n",
    "    [40, 'low', 'yes', 'excellent'],\n",
    "    [31, 'medium', 'yes', 'excellent'],\n",
    "    [30, 'high', 'no', 'fair'],\n",
    "    [30, 'medium', 'yes', 'fair'],\n",
    "    [31, 'medium', 'yes', 'excellent'],\n",
    "    [31, 'high', 'no', 'excellent'],\n",
    "    [40, 'medium', 'no', 'fair'],\n",
    "    [40, 'high', 'yes', 'fair'],\n",
    "    [31, 'medium', 'no', 'excellent']\n",
    "]\n",
    "\n",
    "for sample in data2:\n",
    "    prediction = predict(decision_tree, sample)\n",
    "    print(f\"Sample : {sample}, Predicted : {prediction}\")"
   ]
  },
  {
   "cell_type": "code",
   "execution_count": null,
   "id": "e6cc320e",
   "metadata": {},
   "outputs": [],
   "source": []
  }
 ],
 "metadata": {
  "kernelspec": {
   "display_name": "Python 3 (ipykernel)",
   "language": "python",
   "name": "python3"
  },
  "language_info": {
   "codemirror_mode": {
    "name": "ipython",
    "version": 3
   },
   "file_extension": ".py",
   "mimetype": "text/x-python",
   "name": "python",
   "nbconvert_exporter": "python",
   "pygments_lexer": "ipython3",
   "version": "3.9.13"
  }
 },
 "nbformat": 4,
 "nbformat_minor": 5
}
